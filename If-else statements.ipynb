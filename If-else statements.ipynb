{
 "cells": [
  {
   "cell_type": "code",
   "execution_count": 2,
   "metadata": {},
   "outputs": [
    {
     "name": "stdout",
     "output_type": "stream",
     "text": [
      "a is less than b\n",
      "not sure\n"
     ]
    }
   ],
   "source": [
    "a=2\n",
    "b=3\n",
    "if a<b:\n",
    "    print('a is less than b')\n",
    "print('not sure')"
   ]
  },
  {
   "cell_type": "code",
   "execution_count": 4,
   "metadata": {},
   "outputs": [
    {
     "name": "stdout",
     "output_type": "stream",
     "text": [
      "c is not less than d\n",
      "outside if block\n"
     ]
    }
   ],
   "source": [
    "c=5\n",
    "d=4\n",
    "if c<d:\n",
    "    print(\"c is less than d\")\n",
    "else:\n",
    "    print(\"c is not less than d\")\n",
    "print(\"outside if block\")"
   ]
  },
  {
   "cell_type": "code",
   "execution_count": 8,
   "metadata": {},
   "outputs": [
    {
     "name": "stdout",
     "output_type": "stream",
     "text": [
      "e is greater than f\n"
     ]
    }
   ],
   "source": [
    "e=8\n",
    "f=7\n",
    "if e<f:\n",
    "    print(\"e is less than f\")\n",
    "elif e==f:\n",
    "    print(\"e is equal to f\")\n",
    "else:\n",
    "    print(\"e is greater than f\")"
   ]
  },
  {
   "cell_type": "code",
   "execution_count": 9,
   "metadata": {},
   "outputs": [
    {
     "name": "stdout",
     "output_type": "stream",
     "text": [
      "c is less than d\n"
     ]
    }
   ],
   "source": [
    "g=7\n",
    "h=8\n",
    "if g<h:\n",
    "    print(\"c is less than d\")\n",
    "else:\n",
    "    if g==h:\n",
    "        print(\"g is equal to h\")\n",
    "    else:\n",
    "        print(\" g is greater than h\")"
   ]
  },
  {
   "cell_type": "code",
   "execution_count": 12,
   "metadata": {},
   "outputs": [],
   "source": [
    "name=\"amisha\"\n",
    "height_m=1.5\n",
    "weight_kg=55"
   ]
  },
  {
   "cell_type": "code",
   "execution_count": 13,
   "metadata": {},
   "outputs": [
    {
     "name": "stdout",
     "output_type": "stream",
     "text": [
      "bmi:\n",
      "24.444444444444443\n",
      "amisha\n",
      "is not overweight\n"
     ]
    }
   ],
   "source": [
    "bmi=weight_kg/(height_m **2)\n",
    "print(\"bmi:\")\n",
    "print(bmi)\n",
    "if bmi<25:\n",
    "    print(name)\n",
    "    print(\"is not overweight\")\n",
    "else:\n",
    "    print(name,\"is overweight\")"
   ]
  },
  {
   "cell_type": "code",
   "execution_count": null,
   "metadata": {},
   "outputs": [],
   "source": []
  }
 ],
 "metadata": {
  "kernelspec": {
   "display_name": "Python 3",
   "language": "python",
   "name": "python3"
  },
  "language_info": {
   "codemirror_mode": {
    "name": "ipython",
    "version": 3
   },
   "file_extension": ".py",
   "mimetype": "text/x-python",
   "name": "python",
   "nbconvert_exporter": "python",
   "pygments_lexer": "ipython3",
   "version": "3.6.5"
  }
 },
 "nbformat": 4,
 "nbformat_minor": 2
}
