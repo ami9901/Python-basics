{
 "cells": [
  {
   "cell_type": "code",
   "execution_count": 2,
   "metadata": {
    "pycharm": {}
   },
   "outputs": [
    {
     "name": "stdout",
     "output_type": "stream",
     "text": [
      "10\n"
     ]
    }
   ],
   "source": [
    "total=0\n",
    "for i in range(1,5):\n",
    "    total+=i\n",
    "print(total)"
   ]
  },
  {
   "cell_type": "code",
   "execution_count": 4,
   "metadata": {},
   "outputs": [
    {
     "name": "stdout",
     "output_type": "stream",
     "text": [
      "10\n"
     ]
    }
   ],
   "source": [
    "#the task performed by \"for\" can also be done by while loop\n",
    "\n",
    "total2=0\n",
    "j=1 #j is initialized\n",
    "while j<5:\n",
    "    total2+=j\n",
    "    j+=1 #j incremented everytime\n",
    "print(total2)"
   ]
  },
  {
   "cell_type": "code",
   "execution_count": 6,
   "metadata": {},
   "outputs": [
    {
     "name": "stdout",
     "output_type": "stream",
     "text": [
      "17\n"
     ]
    }
   ],
   "source": [
    "#in the for loop the initialization and the increment was in the same statement whereas in \"while\" we need to specify both separately\n",
    "\n",
    "given_list=[5,4,4,3,1,-2,-3,-5]\n",
    "#find sum of only positive numbers\n",
    "total3=0\n",
    "i=0\n",
    "while given_list[i]>0:\n",
    "    total3+=given_list[i]\n",
    "    i+=1\n",
    "print(total3)"
   ]
  },
  {
   "cell_type": "code",
   "execution_count": 7,
   "metadata": {},
   "outputs": [
    {
     "ename": "IndexError",
     "evalue": "list index out of range",
     "output_type": "error",
     "traceback": [
      "\u001b[1;31m---------------------------------------------------------------------------\u001b[0m",
      "\u001b[1;31mIndexError\u001b[0m                                Traceback (most recent call last)",
      "\u001b[1;32m<ipython-input-7-28591b1a22dd>\u001b[0m in \u001b[0;36m<module>\u001b[1;34m\u001b[0m\n\u001b[0;32m      5\u001b[0m \u001b[0mtotal4\u001b[0m\u001b[1;33m=\u001b[0m\u001b[1;36m0\u001b[0m\u001b[1;33m\u001b[0m\u001b[1;33m\u001b[0m\u001b[0m\n\u001b[0;32m      6\u001b[0m \u001b[0mi\u001b[0m\u001b[1;33m=\u001b[0m\u001b[1;36m0\u001b[0m\u001b[1;33m\u001b[0m\u001b[1;33m\u001b[0m\u001b[0m\n\u001b[1;32m----> 7\u001b[1;33m \u001b[1;32mwhile\u001b[0m \u001b[0mgiven_list\u001b[0m\u001b[1;33m[\u001b[0m\u001b[0mi\u001b[0m\u001b[1;33m]\u001b[0m\u001b[1;33m>\u001b[0m\u001b[1;36m0\u001b[0m\u001b[1;33m:\u001b[0m\u001b[1;33m\u001b[0m\u001b[1;33m\u001b[0m\u001b[0m\n\u001b[0m\u001b[0;32m      8\u001b[0m     \u001b[0mtotal4\u001b[0m\u001b[1;33m+=\u001b[0m\u001b[0mgiven_list\u001b[0m\u001b[1;33m[\u001b[0m\u001b[0mi\u001b[0m\u001b[1;33m]\u001b[0m\u001b[1;33m\u001b[0m\u001b[1;33m\u001b[0m\u001b[0m\n\u001b[0;32m      9\u001b[0m     \u001b[0mi\u001b[0m\u001b[1;33m+=\u001b[0m\u001b[1;36m1\u001b[0m\u001b[1;33m\u001b[0m\u001b[1;33m\u001b[0m\u001b[0m\n",
      "\u001b[1;31mIndexError\u001b[0m: list index out of range"
     ]
    }
   ],
   "source": [
    "# so above statements gives perfect answer\n",
    "# but what if the list did not have any negative numbers?\n",
    "\n",
    "given_list=[5,4,4,3,1]\n",
    "total4=0\n",
    "i=0\n",
    "while given_list[i]>0:\n",
    "    total4+=given_list[i]\n",
    "    i+=1\n",
    "print(total4)"
   ]
  },
  {
   "cell_type": "code",
   "execution_count": 8,
   "metadata": {},
   "outputs": [
    {
     "name": "stdout",
     "output_type": "stream",
     "text": [
      "17\n"
     ]
    }
   ],
   "source": [
    "# it will give an error saying index error, means when 5,4,4,3,1 last value 1 >0 all steps executed i incremented\n",
    "# given_list[5] does not exist(count starts from 0 in list/array)\n",
    "#whereas in previous example the next element was negative which terminated the loop\n",
    "\n",
    "#Correction:\n",
    "\n",
    "given_list=[5,4,4,3,1]\n",
    "total4=0\n",
    "i=0\n",
    "while i<len(given_list) and given_list[i]>0:\n",
    "    total4+=given_list[i]\n",
    "    i+=1\n",
    "print(total4)\n",
    "\n",
    "#here the len function is used to know the length of the list"
   ]
  },
  {
   "cell_type": "markdown",
   "metadata": {},
   "source": [
    "# use of break statement"
   ]
  },
  {
   "cell_type": "code",
   "execution_count": 9,
   "metadata": {},
   "outputs": [
    {
     "name": "stdout",
     "output_type": "stream",
     "text": [
      "17\n"
     ]
    }
   ],
   "source": [
    "given_list2=[5,4,4,3,1,-2,-3,-5]\n",
    "total4=0\n",
    "for element in given_list2:\n",
    "    # below statement checks whether the element is negative\n",
    "    if element <=0: \n",
    "        #breaks the loop if a negative is found\n",
    "        break \n",
    "    total4+=element\n",
    "print(total4)"
   ]
  },
  {
   "cell_type": "code",
   "execution_count": 12,
   "metadata": {},
   "outputs": [
    {
     "name": "stdout",
     "output_type": "stream",
     "text": [
      "17\n"
     ]
    }
   ],
   "source": [
    "#using while loop for the same task\n",
    "\n",
    "given_list3=[5,4,4,3,1,-2,-3,-5]\n",
    "total5=0\n",
    "i=0\n",
    "while True:\n",
    "    total5+=given_list3[i]\n",
    "    i+=1\n",
    "    # below statement checks whether the element is negative\n",
    "    if given_list3[i] <=0: \n",
    "        #breaks the loop if a negative is found\n",
    "        break \n",
    "print(total5)"
   ]
  },
  {
   "cell_type": "markdown",
   "metadata": {},
   "source": [
    "# we can also evaluate the sum of all negative numbers from the list by only changing the condition of the if statement"
   ]
  },
  {
   "cell_type": "code",
   "execution_count": 13,
   "metadata": {},
   "outputs": [
    {
     "name": "stdout",
     "output_type": "stream",
     "text": [
      "-17\n"
     ]
    }
   ],
   "source": [
    "given_list3=[7,5,4,4,3,1,-2,-3,-5,-7]\n",
    "total6=0\n",
    "#below statement gives last element of the list\n",
    "j=len(given_list3)-1\n",
    "while given_list3[j]<0:\n",
    "    total6+=given_list3[j]\n",
    "    j-=1\n",
    "print(total6)"
   ]
  },
  {
   "cell_type": "code",
   "execution_count": null,
   "metadata": {},
   "outputs": [],
   "source": []
  }
 ],
 "metadata": {
  "kernelspec": {
   "display_name": "Python 3",
   "language": "python",
   "name": "python3"
  },
  "language_info": {
   "codemirror_mode": {
    "name": "ipython",
    "version": 3
   },
   "file_extension": ".py",
   "mimetype": "text/x-python",
   "name": "python",
   "nbconvert_exporter": "python",
   "pygments_lexer": "ipython3",
   "version": "3.7.3"
  }
 },
 "nbformat": 4,
 "nbformat_minor": 2
}
