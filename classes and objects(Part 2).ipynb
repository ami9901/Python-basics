{
 "cells": [
  {
   "cell_type": "code",
   "execution_count": 1,
   "metadata": {},
   "outputs": [],
   "source": [
    "class Robot:\n",
    "    #constructor below\n",
    "    def __init__(self,name,color,weight):\n",
    "        self.name=name\n",
    "        self.color=color\n",
    "        self.weight=weight\n",
    "    \n",
    "    def introduce_self(self): \n",
    "        print(\"My name is \" + self.name + \"\\nMy color is \" + self.color)\n",
    "        print(\"My weight is \",self.weight)"
   ]
  },
  {
   "cell_type": "code",
   "execution_count": 2,
   "metadata": {},
   "outputs": [],
   "source": [
    "r1=Robot(\"Tom\",\"black\",10)\n",
    "r2=Robot(\"jerry\",\"brown\",30)"
   ]
  },
  {
   "cell_type": "markdown",
   "metadata": {},
   "source": [
    "new class person"
   ]
  },
  {
   "cell_type": "code",
   "execution_count": 3,
   "metadata": {},
   "outputs": [],
   "source": [
    "class Person:\n",
    "    def __init__(self,n,p,i):\n",
    "        self.name=n\n",
    "        self.personality=p\n",
    "        self.is_itting=i\n",
    "        \n",
    "    def sit_down(self):\n",
    "        self.is_sitting=True\n",
    "        \n",
    "    def stand_up(self):\n",
    "        self.is_sitting=False\n",
    "        "
   ]
  },
  {
   "cell_type": "code",
   "execution_count": 4,
   "metadata": {},
   "outputs": [],
   "source": [
    "p1=Person(\"Alice\",\"Aggressive\",False)\n",
    "p2=Person(\"Becky\",\"talkative\",True)"
   ]
  },
  {
   "cell_type": "markdown",
   "metadata": {},
   "source": [
    "show p1 owns r2: can be done by initializing one more variable in the constructor or assigning new attribute directly"
   ]
  },
  {
   "cell_type": "code",
   "execution_count": 5,
   "metadata": {},
   "outputs": [],
   "source": [
    "p1.robot_owned=r2\n",
    "p2.robot_owned=r1"
   ]
  },
  {
   "cell_type": "code",
   "execution_count": 7,
   "metadata": {},
   "outputs": [
    {
     "name": "stdout",
     "output_type": "stream",
     "text": [
      "My name is jerry\n",
      "My color is brown\n",
      "My weight is  30\n"
     ]
    }
   ],
   "source": [
    "# below statement p1.robot_owned returns r2 as an object \n",
    "# and further invokes introduce_self() method\n",
    "\n",
    "p1.robot_owned.introduce_self()\n",
    "#p2.robot_owned.introduce_self()"
   ]
  }
 ],
 "metadata": {
  "kernelspec": {
   "display_name": "Python 3",
   "language": "python",
   "name": "python3"
  },
  "language_info": {
   "codemirror_mode": {
    "name": "ipython",
    "version": 3
   },
   "file_extension": ".py",
   "mimetype": "text/x-python",
   "name": "python",
   "nbconvert_exporter": "python",
   "pygments_lexer": "ipython3",
   "version": "3.7.3"
  }
 },
 "nbformat": 4,
 "nbformat_minor": 2
}
